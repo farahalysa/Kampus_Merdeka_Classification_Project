{
 "cells": [
  {
   "cell_type": "markdown",
   "metadata": {},
   "source": [
    "# Final Project 3"
   ]
  },
  {
   "cell_type": "markdown",
   "metadata": {},
   "source": [
    "Nama            : Farah Alysa Putri <br>\n",
    "Program         : Introduction to Python for Data Science <br>\n",
    "Kode Peserta    : PYTN-KS02-001\n",
    "\n",
    "Anggota Kelompok:\n",
    "1. Anindita Khusnul Oktavia (PYTN-KS02-006)\n",
    "2. Farah Alysa Putri        (PYTN-KS02-001)"
   ]
  },
  {
   "cell_type": "markdown",
   "metadata": {},
   "source": [
    "## Perkenalan"
   ]
  },
  {
   "cell_type": "markdown",
   "metadata": {},
   "source": [
    "Final Project 3 dibuat guna mengevaluasi konsep Ensemble sebagai berikut:\n",
    "- Mampu memahami konsep Classification dengan Ensemble Model\n",
    "- Mampu mempersiapkan data untuk digunakan dalam Ensemble Model\n",
    "- Mampu mengimplementasikan Ensemble Model untuk membuat prediksi \n",
    "\n",
    "Dataset yang digunakan adalah dataset Heart Failure Prediction. Dataset ini memiliki 13 kolom yang diperoleh dari Kaggle pada link https://www.kaggle.com/andrewmvd/heart-failure-clinical-data. Dataset tersebut dapat memprediksi kelangsungan hidup pasien dengan gagal jantung dari serum creatinine dan ejection fraction saja. "
   ]
  },
  {
   "cell_type": "markdown",
   "metadata": {},
   "source": [
    "## Import Libraries"
   ]
  },
  {
   "cell_type": "code",
   "execution_count": 89,
   "metadata": {},
   "outputs": [],
   "source": [
    "import pandas as pd\n",
    "import matplotlib.pyplot as plt\n",
    "import numpy as np\n",
    "import seaborn as sns\n",
    "from collections import Counter\n",
    "from sklearn.preprocessing import StandardScaler"
   ]
  },
  {
   "cell_type": "code",
   "execution_count": 90,
   "metadata": {},
   "outputs": [],
   "source": [
    "# data splitting\n",
    "from sklearn.model_selection import train_test_split, cross_val_score, GridSearchCV"
   ]
  },
  {
   "cell_type": "code",
   "execution_count": 91,
   "metadata": {},
   "outputs": [],
   "source": [
    "# data modeling\n",
    "from sklearn.metrics import confusion_matrix,accuracy_score,roc_curve,roc_auc_score,classification_report,f1_score\n",
    "from sklearn.linear_model import LogisticRegression\n",
    "from sklearn.naive_bayes import GaussianNB\n",
    "from xgboost import XGBClassifier\n",
    "from sklearn.ensemble import RandomForestClassifier\n",
    "from sklearn.tree import DecisionTreeClassifier\n",
    "from sklearn.neighbors import KNeighborsClassifier\n",
    "from sklearn.naive_bayes import GaussianNB\n",
    "from sklearn.svm import SVC"
   ]
  },
  {
   "cell_type": "code",
   "execution_count": 92,
   "metadata": {},
   "outputs": [],
   "source": [
    "# ensembling\n",
    "from mlxtend.classifier import StackingCVClassifier\n",
    "import xgboost as xgb\n",
    "import itertools\n",
    "from sklearn.dummy import DummyClassifier\n",
    "from sklearn import metrics"
   ]
  },
  {
   "cell_type": "markdown",
   "metadata": {},
   "source": [
    "## Data Loading"
   ]
  },
  {
   "cell_type": "code",
   "execution_count": 93,
   "metadata": {},
   "outputs": [
    {
     "data": {
      "text/html": [
       "<div>\n",
       "<style scoped>\n",
       "    .dataframe tbody tr th:only-of-type {\n",
       "        vertical-align: middle;\n",
       "    }\n",
       "\n",
       "    .dataframe tbody tr th {\n",
       "        vertical-align: top;\n",
       "    }\n",
       "\n",
       "    .dataframe thead th {\n",
       "        text-align: right;\n",
       "    }\n",
       "</style>\n",
       "<table border=\"1\" class=\"dataframe\">\n",
       "  <thead>\n",
       "    <tr style=\"text-align: right;\">\n",
       "      <th></th>\n",
       "      <th>age</th>\n",
       "      <th>anaemia</th>\n",
       "      <th>creatinine_phosphokinase</th>\n",
       "      <th>diabetes</th>\n",
       "      <th>ejection_fraction</th>\n",
       "      <th>high_blood_pressure</th>\n",
       "      <th>platelets</th>\n",
       "      <th>serum_creatinine</th>\n",
       "      <th>serum_sodium</th>\n",
       "      <th>sex</th>\n",
       "      <th>smoking</th>\n",
       "      <th>time</th>\n",
       "      <th>DEATH_EVENT</th>\n",
       "    </tr>\n",
       "  </thead>\n",
       "  <tbody>\n",
       "    <tr>\n",
       "      <th>0</th>\n",
       "      <td>75.0</td>\n",
       "      <td>0</td>\n",
       "      <td>582</td>\n",
       "      <td>0</td>\n",
       "      <td>20</td>\n",
       "      <td>1</td>\n",
       "      <td>265000.00</td>\n",
       "      <td>1.9</td>\n",
       "      <td>130</td>\n",
       "      <td>1</td>\n",
       "      <td>0</td>\n",
       "      <td>4</td>\n",
       "      <td>1</td>\n",
       "    </tr>\n",
       "    <tr>\n",
       "      <th>1</th>\n",
       "      <td>55.0</td>\n",
       "      <td>0</td>\n",
       "      <td>7861</td>\n",
       "      <td>0</td>\n",
       "      <td>38</td>\n",
       "      <td>0</td>\n",
       "      <td>263358.03</td>\n",
       "      <td>1.1</td>\n",
       "      <td>136</td>\n",
       "      <td>1</td>\n",
       "      <td>0</td>\n",
       "      <td>6</td>\n",
       "      <td>1</td>\n",
       "    </tr>\n",
       "    <tr>\n",
       "      <th>2</th>\n",
       "      <td>65.0</td>\n",
       "      <td>0</td>\n",
       "      <td>146</td>\n",
       "      <td>0</td>\n",
       "      <td>20</td>\n",
       "      <td>0</td>\n",
       "      <td>162000.00</td>\n",
       "      <td>1.3</td>\n",
       "      <td>129</td>\n",
       "      <td>1</td>\n",
       "      <td>1</td>\n",
       "      <td>7</td>\n",
       "      <td>1</td>\n",
       "    </tr>\n",
       "    <tr>\n",
       "      <th>3</th>\n",
       "      <td>50.0</td>\n",
       "      <td>1</td>\n",
       "      <td>111</td>\n",
       "      <td>0</td>\n",
       "      <td>20</td>\n",
       "      <td>0</td>\n",
       "      <td>210000.00</td>\n",
       "      <td>1.9</td>\n",
       "      <td>137</td>\n",
       "      <td>1</td>\n",
       "      <td>0</td>\n",
       "      <td>7</td>\n",
       "      <td>1</td>\n",
       "    </tr>\n",
       "    <tr>\n",
       "      <th>4</th>\n",
       "      <td>65.0</td>\n",
       "      <td>1</td>\n",
       "      <td>160</td>\n",
       "      <td>1</td>\n",
       "      <td>20</td>\n",
       "      <td>0</td>\n",
       "      <td>327000.00</td>\n",
       "      <td>2.7</td>\n",
       "      <td>116</td>\n",
       "      <td>0</td>\n",
       "      <td>0</td>\n",
       "      <td>8</td>\n",
       "      <td>1</td>\n",
       "    </tr>\n",
       "  </tbody>\n",
       "</table>\n",
       "</div>"
      ],
      "text/plain": [
       "    age  anaemia  creatinine_phosphokinase  diabetes  ejection_fraction  \\\n",
       "0  75.0        0                       582         0                 20   \n",
       "1  55.0        0                      7861         0                 38   \n",
       "2  65.0        0                       146         0                 20   \n",
       "3  50.0        1                       111         0                 20   \n",
       "4  65.0        1                       160         1                 20   \n",
       "\n",
       "   high_blood_pressure  platelets  serum_creatinine  serum_sodium  sex  \\\n",
       "0                    1  265000.00               1.9           130    1   \n",
       "1                    0  263358.03               1.1           136    1   \n",
       "2                    0  162000.00               1.3           129    1   \n",
       "3                    0  210000.00               1.9           137    1   \n",
       "4                    0  327000.00               2.7           116    0   \n",
       "\n",
       "   smoking  time  DEATH_EVENT  \n",
       "0        0     4            1  \n",
       "1        0     6            1  \n",
       "2        1     7            1  \n",
       "3        0     7            1  \n",
       "4        0     8            1  "
      ]
     },
     "execution_count": 93,
     "metadata": {},
     "output_type": "execute_result"
    }
   ],
   "source": [
    "# data loading\n",
    "data = pd.read_csv('heart_failure_clinical_records_dataset.csv')\n",
    "data.head()"
   ]
  },
  {
   "cell_type": "markdown",
   "metadata": {},
   "source": [
    "Dataset terdiri dari 23 atribut, antara lain:\n",
    "1. age - umur pasien\n",
    "2. anaemia - apakah ada pengurangan haemoglobin\n",
    "3. creatinine_phosphokinase - level enzim CPK dalam mcg/L\n",
    "4. diabetes - apakah pasien punya riwayat diabetes\n",
    "5. ejection_fraction - persentase darah yang meninggalkan jantung dalam persentasi di setiap kontraksi jantung\n",
    "6. high_blood_pressure - apakah pasien punya darah tinggi\n",
    "7. platelets - jumlah platelet di darah dalam kiloplatelets/mL\n",
    "8. serum_creatinine - level serum creatinine di darah dalam mg/dL\n",
    "9. serum_sodium - level serum sodium di darah dalam mEq/L\n",
    "10. sex - apakah pasien pria atau wanita\n",
    "11. smoking - apakah pasien merokok\n",
    "12. time - waktu dalam hari untuk follow-up\n",
    "13. DEATH_EVENT - apakah pasien sudah meninggal saat waktu follow-up"
   ]
  },
  {
   "cell_type": "code",
   "execution_count": 94,
   "metadata": {},
   "outputs": [
    {
     "data": {
      "text/plain": [
       "(299, 13)"
      ]
     },
     "execution_count": 94,
     "metadata": {},
     "output_type": "execute_result"
    }
   ],
   "source": [
    "data.shape"
   ]
  },
  {
   "cell_type": "markdown",
   "metadata": {},
   "source": [
    "Dataset terdiri dari 299 baris dan 13 kolom"
   ]
  },
  {
   "cell_type": "code",
   "execution_count": 95,
   "metadata": {},
   "outputs": [
    {
     "name": "stdout",
     "output_type": "stream",
     "text": [
      "<class 'pandas.core.frame.DataFrame'>\n",
      "RangeIndex: 299 entries, 0 to 298\n",
      "Data columns (total 13 columns):\n",
      " #   Column                    Non-Null Count  Dtype  \n",
      "---  ------                    --------------  -----  \n",
      " 0   age                       299 non-null    float64\n",
      " 1   anaemia                   299 non-null    int64  \n",
      " 2   creatinine_phosphokinase  299 non-null    int64  \n",
      " 3   diabetes                  299 non-null    int64  \n",
      " 4   ejection_fraction         299 non-null    int64  \n",
      " 5   high_blood_pressure       299 non-null    int64  \n",
      " 6   platelets                 299 non-null    float64\n",
      " 7   serum_creatinine          299 non-null    float64\n",
      " 8   serum_sodium              299 non-null    int64  \n",
      " 9   sex                       299 non-null    int64  \n",
      " 10  smoking                   299 non-null    int64  \n",
      " 11  time                      299 non-null    int64  \n",
      " 12  DEATH_EVENT               299 non-null    int64  \n",
      "dtypes: float64(3), int64(10)\n",
      "memory usage: 30.5 KB\n"
     ]
    }
   ],
   "source": [
    "# cek type data\n",
    "data.info()"
   ]
  },
  {
   "cell_type": "markdown",
   "metadata": {},
   "source": [
    "## Exploratory Data Analysis"
   ]
  },
  {
   "cell_type": "code",
   "execution_count": 96,
   "metadata": {},
   "outputs": [
    {
     "data": {
      "image/png": "[encoded data removed]",
      "text/plain": [
       "<Figure size 1008x432 with 2 Axes>"
      ]
     },
     "metadata": {
      "needs_background": "light"
     },
     "output_type": "display_data"
    }
   ],
   "source": [
    "# plotting\n",
    "fig, (ax1, ax2) = plt.subplots(nrows=1, ncols=2, sharey=False, figsize=(14,6))\n",
    "\n",
    "ax1 = data['DEATH_EVENT'].value_counts().plot.pie( x=\"Death event\" ,y ='no.of patients', \n",
    "                   autopct = \"%1.0f%%\",labels=[\"Alive\",\"Deceased\"], startangle = 30,ax=ax1);\n",
    "ax1.set(title = 'Percentage of Death event patients in Dataset')\n",
    "\n",
    "ax2 = data[\"DEATH_EVENT\"].value_counts().plot(kind=\"barh\" ,ax =ax2)\n",
    "for i,j in enumerate(data[\"DEATH_EVENT\"].value_counts().values):\n",
    "    ax2.text(.5,i,j,fontsize=12)\n",
    "ax2.set(title = 'No. of Death event patients in Dataset')\n",
    "plt.show()"
   ]
  },
  {
   "cell_type": "markdown",
   "metadata": {},
   "source": [
    "Berdasarkan grafik diatas, dapat dilihat bahwa jumlah pasien yang masih hidup pada waktu follow-up lebih banyak jika dibandingkan dengan pasien yang meninggal. Sebanyak 203 pasien atau 68% pasien hidup, sedangkan 32% sisanya dinyatakan meninggal pada waktu follow-up."
   ]
  },
  {
   "cell_type": "code",
   "execution_count": 97,
   "metadata": {},
   "outputs": [
    {
     "data": {
      "text/plain": [
       "<AxesSubplot:>"
      ]
     },
     "execution_count": 97,
     "metadata": {},
     "output_type": "execute_result"
    },
    {
     "data": {
      "image/png": "[encoded data removed]",
      "text/plain": [
       "<Figure size 720x720 with 2 Axes>"
      ]
     },
     "metadata": {
      "needs_background": "light"
     },
     "output_type": "display_data"
    }
   ],
   "source": [
    "# plot heatmap untuk melihat korelasi antar variabel\n",
    "plt.figure(figsize=(10,10))\n",
    "sns.heatmap(data.corr(),annot=True, mask=np.triu(data.corr()))"
   ]
  },
  {
   "cell_type": "markdown",
   "metadata": {},
   "source": [
    "Berdasarkan heatmap, terjadi korelasi positif antara variabel smoking dan sex. Sedangkan korelasi negatif terjadi antara variabel death event dan time."
   ]
  },
  {
   "cell_type": "markdown",
   "metadata": {},
   "source": [
    "## Preprocessing"
   ]
  },
  {
   "cell_type": "code",
   "execution_count": 98,
   "metadata": {},
   "outputs": [],
   "source": [
    "# split data train dan test\n",
    "X = data.drop(['DEATH_EVENT'],axis=1)\n",
    "y = data['DEATH_EVENT']"
   ]
  },
  {
   "cell_type": "code",
   "execution_count": 99,
   "metadata": {},
   "outputs": [],
   "source": [
    "X_train, X_test, y_train, y_test = train_test_split(X, y, test_size=0.20, random_state = 0)\n",
    "scaler = StandardScaler()\n",
    "X_train = scaler.fit_transform(X_train)\n",
    "X_test = scaler.transform(X_test)"
   ]
  },
  {
   "cell_type": "code",
   "execution_count": 100,
   "metadata": {},
   "outputs": [
    {
     "data": {
      "text/plain": [
       "0.5666666666666667"
      ]
     },
     "execution_count": 100,
     "metadata": {},
     "output_type": "execute_result"
    }
   ],
   "source": [
    "dummy_clf = DummyClassifier(strategy=\"stratified\")\n",
    "dummy_clf.fit(X_train, y_train)\n",
    "DummyClassifier(strategy='stratified')\n",
    "dummy_clf.predict(X_test)\n",
    "dummy_clf.score(X_test, y_test)"
   ]
  },
  {
   "cell_type": "markdown",
   "metadata": {},
   "source": [
    "## Modelling"
   ]
  },
  {
   "cell_type": "markdown",
   "metadata": {},
   "source": [
    "### Logistic Regression"
   ]
  },
  {
   "cell_type": "code",
   "execution_count": 101,
   "metadata": {},
   "outputs": [],
   "source": [
    "# LOGISTIC REGRESSION\n",
    "logreg = LogisticRegression()\n",
    "logreg.fit(X_train, y_train)\n",
    "# prediction\n",
    "y_pred_log = logreg.predict(X_test)\n",
    "lr_acc_score=metrics.accuracy_score(y_test, y_pred_log)\n",
    "lr_f1_score=metrics.f1_score(y_test, y_pred_log)"
   ]
  },
  {
   "cell_type": "code",
   "execution_count": 102,
   "metadata": {},
   "outputs": [
    {
     "name": "stdout",
     "output_type": "stream",
     "text": [
      "Test Accuracy score:  0.7833333333333333\n",
      "Test F1 score:  0.6285714285714286\n",
      "\n",
      "\n",
      "              precision    recall  f1-score   support\n",
      "\n",
      "           0       0.75      0.97      0.85        37\n",
      "           1       0.92      0.48      0.63        23\n",
      "\n",
      "    accuracy                           0.78        60\n",
      "   macro avg       0.83      0.73      0.74        60\n",
      "weighted avg       0.81      0.78      0.76        60\n",
      "\n"
     ]
    }
   ],
   "source": [
    "# checking accuracy\n",
    "print('Test Accuracy score: ', lr_acc_score)\n",
    "print('Test F1 score: ', lr_f1_score)\n",
    "print(\"\\n\")\n",
    "print(classification_report(y_test,y_pred_log))"
   ]
  },
  {
   "cell_type": "code",
   "execution_count": 103,
   "metadata": {},
   "outputs": [
    {
     "data": {
      "image/png": "[encoded data removed]",
      "text/plain": [
       "<Figure size 360x360 with 2 Axes>"
      ]
     },
     "metadata": {
      "needs_background": "light"
     },
     "output_type": "display_data"
    }
   ],
   "source": [
    "# confusion matrix\n",
    "logreg_cm = confusion_matrix(y_test,y_pred_log)\n",
    "f, ax = plt.subplots(figsize=(5,5))\n",
    "sns.heatmap(logreg_cm, annot=True, linewidth=0.7, linecolor='cyan', fmt='g', ax=ax, cmap=\"YlGnBu\")\n",
    "plt.title('Logistic Regression Classification Confusion Matrix')\n",
    "plt.xlabel('Y predict')\n",
    "plt.ylabel('Y test')\n",
    "plt.show()"
   ]
  },
  {
   "cell_type": "markdown",
   "metadata": {},
   "source": [
    "Berdasarkan Logistic Regression Confusion Matrix, diperoleh hasil sebagai berikut:\n",
    "1. “True Positive” - Frekuensi prediksi bahwa pasien hidup (0) dan sesuai dengan data aktual bahwa pasien hidup (0) sebanyak 36.\n",
    "2. “False Positive” - Frekuensi prediksi bahwa pasien hidup (0), namun pada data aktual menunjukkan bahwa pasien meninggal (1) sebanyak 1.\n",
    "3. “False Negative” - Frekuensi prediksi bahwa pasien meninggal (1), namun pada data aktual menunjukkan bahwa pasien hidup (0) sebanyak 12.\n",
    "4. \"True Positive\" - Frekuensi prediksi bahwa pasien meninggal (1) dan sesuai dengan data aktual bahwa pasien meninggal (1) sebanyak 11."
   ]
  },
  {
   "cell_type": "markdown",
   "metadata": {},
   "source": [
    "### K-Nearest Neighbor"
   ]
  },
  {
   "cell_type": "code",
   "execution_count": 104,
   "metadata": {},
   "outputs": [],
   "source": [
    "# KNN MODEL\n",
    "knn = KNeighborsClassifier()\n",
    "knn.fit(X_train, y_train)\n",
    "# prediction\n",
    "y_pred_knn = knn.predict(X_test)\n",
    "knn_acc_score=metrics.accuracy_score(y_test, y_pred_knn)\n",
    "knn_f1_score=metrics.f1_score(y_test, y_pred_knn)"
   ]
  },
  {
   "cell_type": "code",
   "execution_count": 105,
   "metadata": {},
   "outputs": [
    {
     "name": "stdout",
     "output_type": "stream",
     "text": [
      "Test Accuracy score:  0.7166666666666667\n",
      "Test F1 score:  0.48484848484848486\n",
      "\n",
      "\n",
      "              precision    recall  f1-score   support\n",
      "\n",
      "           0       0.70      0.95      0.80        37\n",
      "           1       0.80      0.35      0.48        23\n",
      "\n",
      "    accuracy                           0.72        60\n",
      "   macro avg       0.75      0.65      0.64        60\n",
      "weighted avg       0.74      0.72      0.68        60\n",
      "\n"
     ]
    }
   ],
   "source": [
    "# checking accuracy\n",
    "print('Test Accuracy score: ', knn_acc_score)\n",
    "print('Test F1 score: ',knn_f1_score )\n",
    "print(\"\\n\")\n",
    "print(classification_report(y_test,y_pred_knn))"
   ]
  },
  {
   "cell_type": "code",
   "execution_count": 106,
   "metadata": {},
   "outputs": [
    {
     "data": {
      "image/png": "[encoded data removed]",
      "text/plain": [
       "<Figure size 360x360 with 2 Axes>"
      ]
     },
     "metadata": {
      "needs_background": "light"
     },
     "output_type": "display_data"
    }
   ],
   "source": [
    "# confusion matrix\n",
    "knncla_cm = confusion_matrix(y_test,y_pred_knn)\n",
    "f, ax = plt.subplots(figsize=(5,5))\n",
    "sns.heatmap(knncla_cm, annot=True, linewidth=0.7, linecolor='cyan', fmt='g', ax=ax, cmap=\"YlGnBu\")\n",
    "plt.title('KNN Classification Confusion Matrix')\n",
    "plt.xlabel('Y predict')\n",
    "plt.ylabel('Y test')\n",
    "plt.show()"
   ]
  },
  {
   "cell_type": "markdown",
   "metadata": {},
   "source": [
    "Berdasarkan KNN Confusion Matrix, diperoleh hasil sebagai berikut:\n",
    "1. “True Positive” - Frekuensi prediksi bahwa pasien hidup (0) dan sesuai dengan data aktual bahwa pasien hidup (0) sebanyak 35.\n",
    "2. “False Positive” - Frekuensi prediksi bahwa pasien hidup (0), namun pada data aktual menunjukkan bahwa pasien meninggal (1) sebanyak 2.\n",
    "3. “False Negative” - Frekuensi prediksi bahwa pasien meninggal (1), namun pada data aktual menunjukkan bahwa pasien hidup (0) sebanyak 15.\n",
    "4. \"True Positive\" - Frekuensi prediksi bahwa pasien meninggal (1) dan sesuai dengan data aktual bahwa pasien meninggal (1) sebanyak 8."
   ]
  },
  {
   "cell_type": "markdown",
   "metadata": {},
   "source": [
    "### Support Vector Classifier"
   ]
  },
  {
   "cell_type": "code",
   "execution_count": 107,
   "metadata": {},
   "outputs": [],
   "source": [
    "# SVC\n",
    "svc =  SVC(kernel='rbf', C=2)\n",
    "svc.fit(X_train, y_train)\n",
    "# prediction\n",
    "y_pred_svc = svc.predict(X_test)\n",
    "svc_acc_score = metrics.accuracy_score(y_test, y_pred_svc)\n",
    "svc_f1_score = metrics.f1_score(y_test, y_pred_svc)"
   ]
  },
  {
   "cell_type": "code",
   "execution_count": 108,
   "metadata": {},
   "outputs": [
    {
     "name": "stdout",
     "output_type": "stream",
     "text": [
      "Test Accuracy score:  0.8\n",
      "Test F1 score:  0.6842105263157895\n",
      "\n",
      "\n",
      "Accuracy of Support Vector Classifier: 0.8 \n",
      "\n",
      "              precision    recall  f1-score   support\n",
      "\n",
      "           0       0.78      0.95      0.85        37\n",
      "           1       0.87      0.57      0.68        23\n",
      "\n",
      "    accuracy                           0.80        60\n",
      "   macro avg       0.82      0.76      0.77        60\n",
      "weighted avg       0.81      0.80      0.79        60\n",
      "\n"
     ]
    }
   ],
   "source": [
    "# checking accuracy\n",
    "print('Test Accuracy score: ',svc_acc_score)\n",
    "print('Test F1 score: ', svc_f1_score)\n",
    "print(\"\\n\")\n",
    "print(\"Accuracy of Support Vector Classifier:\",svc_acc_score,'\\n')\n",
    "print(classification_report(y_test,y_pred_svc))"
   ]
  },
  {
   "cell_type": "code",
   "execution_count": 109,
   "metadata": {},
   "outputs": [
    {
     "data": {
      "image/png": "[encoded data removed]",
      "text/plain": [
       "<Figure size 360x360 with 2 Axes>"
      ]
     },
     "metadata": {
      "needs_background": "light"
     },
     "output_type": "display_data"
    }
   ],
   "source": [
    "# confusion matrix\n",
    "svmcla_cm = confusion_matrix(y_test,y_pred_svc)\n",
    "f, ax = plt.subplots(figsize=(5,5))\n",
    "sns.heatmap(svmcla_cm, annot=True, linewidth=0.7, linecolor='cyan', fmt='g', ax=ax, cmap=\"YlGnBu\")\n",
    "plt.title('SVC Confusion Matrix')\n",
    "plt.xlabel('Y predict')\n",
    "plt.ylabel('Y test')\n",
    "plt.show()"
   ]
  },
  {
   "cell_type": "markdown",
   "metadata": {},
   "source": [
    "Berdasarkan SVC Confusion Matrix, diperoleh hasil sebagai berikut:\n",
    "1. “True Positive” - Frekuensi prediksi bahwa pasien hidup (0) dan sesuai dengan data aktual bahwa pasien hidup (0) sebanyak 35.\n",
    "2. “False Positive” - Frekuensi prediksi bahwa pasien hidup (0), namun pada data aktual menunjukkan bahwa pasien meninggal (1) sebanyak 2.\n",
    "3. “False Negative” - Frekuensi prediksi bahwa pasien meninggal (1), namun pada data aktual menunjukkan bahwa pasien hidup (0) sebanyak 10.\n",
    "4. \"True Positive\" - Frekuensi prediksi bahwa pasien meninggal (1) dan sesuai dengan data aktual bahwa pasien meninggal (1) sebanyak 13."
   ]
  },
  {
   "cell_type": "markdown",
   "metadata": {},
   "source": [
    "### Decision Tree"
   ]
  },
  {
   "cell_type": "code",
   "execution_count": 110,
   "metadata": {},
   "outputs": [],
   "source": [
    "# DECISION TREE MODEL\n",
    "tree = DecisionTreeClassifier()\n",
    "tree.fit(X_train, y_train)\n",
    "# prediction\n",
    "y_pred_tree = tree.predict(X_test)\n",
    "tree_acc_score=metrics.accuracy_score(y_test, y_pred_tree)\n",
    "tree_f1_score=metrics.f1_score(y_test, y_pred_tree)"
   ]
  },
  {
   "cell_type": "code",
   "execution_count": 111,
   "metadata": {},
   "outputs": [
    {
     "name": "stdout",
     "output_type": "stream",
     "text": [
      "Test Accuracy score:  0.75\n",
      "Test F1 score:  0.6341463414634146\n",
      "\n",
      "\n",
      "              precision    recall  f1-score   support\n",
      "\n",
      "           0       0.76      0.86      0.81        37\n",
      "           1       0.72      0.57      0.63        23\n",
      "\n",
      "    accuracy                           0.75        60\n",
      "   macro avg       0.74      0.72      0.72        60\n",
      "weighted avg       0.75      0.75      0.74        60\n",
      "\n"
     ]
    }
   ],
   "source": [
    "# checking accuracy\n",
    "print('Test Accuracy score: ', tree_acc_score)\n",
    "print('Test F1 score: ', tree_f1_score)\n",
    "print(\"\\n\")\n",
    "print(classification_report(y_test,y_pred_tree))"
   ]
  },
  {
   "cell_type": "code",
   "execution_count": 112,
   "metadata": {},
   "outputs": [
    {
     "data": {
      "image/png": "[encoded data removed]",
      "text/plain": [
       "<Figure size 360x360 with 2 Axes>"
      ]
     },
     "metadata": {
      "needs_background": "light"
     },
     "output_type": "display_data"
    }
   ],
   "source": [
    "# confusion matrix\n",
    "dtcla_cm = confusion_matrix(y_test,y_pred_tree)\n",
    "f, ax = plt.subplots(figsize=(5,5))\n",
    "sns.heatmap(dtcla_cm, annot=True, linewidth=0.7, linecolor='cyan', fmt='g', ax=ax, cmap=\"YlGnBu\")\n",
    "plt.title('Decision Tree Classification Confusion Matrix')\n",
    "plt.xlabel('Y predict')\n",
    "plt.ylabel('Y test')\n",
    "plt.show()"
   ]
  },
  {
   "cell_type": "markdown",
   "metadata": {},
   "source": [
    "Berdasarkan Decision Tree Confusion Matrix, diperoleh hasil sebagai berikut:\n",
    "1. “True Positive” - Frekuensi prediksi bahwa pasien hidup (0) dan sesuai dengan data aktual bahwa pasien hidup (0) sebanyak 32.\n",
    "2. “False Positive” - Frekuensi prediksi bahwa pasien hidup (0), namun pada data aktual menunjukkan bahwa pasien meninggal (1) sebanyak 5.\n",
    "3. “False Negative” - Frekuensi prediksi bahwa pasien meninggal (1), namun pada data aktual menunjukkan bahwa pasien hidup (0) sebanyak 10.\n",
    "4. \"True Positive\" - Frekuensi prediksi bahwa pasien meninggal (1) dan sesuai dengan data aktual bahwa pasien meninggal (1) sebanyak 13."
   ]
  },
  {
   "cell_type": "markdown",
   "metadata": {},
   "source": [
    "### Random Forest"
   ]
  },
  {
   "cell_type": "code",
   "execution_count": 113,
   "metadata": {},
   "outputs": [],
   "source": [
    "# RANDOM FOREST MODEL\n",
    "rfc = RandomForestClassifier()\n",
    "rfc.fit(X_train, y_train)\n",
    "# prediction\n",
    "y_pred_forest = rfc.predict(X_test)\n",
    "rfc_acc_score=metrics.accuracy_score(y_test, y_pred_forest)\n",
    "rfc_f1_score = metrics.f1_score(y_test, y_pred_forest)"
   ]
  },
  {
   "cell_type": "code",
   "execution_count": 114,
   "metadata": {},
   "outputs": [
    {
     "name": "stdout",
     "output_type": "stream",
     "text": [
      "Test Accuracy score:  0.8166666666666667\n",
      "Test F1 score:  0.717948717948718\n",
      "\n",
      "\n",
      "              precision    recall  f1-score   support\n",
      "\n",
      "           0       0.80      0.95      0.86        37\n",
      "           1       0.88      0.61      0.72        23\n",
      "\n",
      "    accuracy                           0.82        60\n",
      "   macro avg       0.84      0.78      0.79        60\n",
      "weighted avg       0.83      0.82      0.81        60\n",
      "\n"
     ]
    }
   ],
   "source": [
    "# checking accuracy\n",
    "print('Test Accuracy score: ', rfc_acc_score)\n",
    "print('Test F1 score: ', rfc_f1_score)\n",
    "print(\"\\n\")\n",
    "print(classification_report(y_test,y_pred_forest))"
   ]
  },
  {
   "cell_type": "code",
   "execution_count": 115,
   "metadata": {},
   "outputs": [
    {
     "data": {
      "image/png": "[encoded data removed]",
      "text/plain": [
       "<Figure size 360x360 with 2 Axes>"
      ]
     },
     "metadata": {
      "needs_background": "light"
     },
     "output_type": "display_data"
    }
   ],
   "source": [
    "# confusion matrix\n",
    "rfcla_cm = confusion_matrix(y_test,y_pred_forest)\n",
    "f, ax = plt.subplots(figsize=(5,5))\n",
    "sns.heatmap(rfcla_cm, annot=True, linewidth=0.7, linecolor='cyan', fmt='g', ax=ax, cmap=\"YlGnBu\")\n",
    "plt.title('Random Forest Classification Confusion Matrix')\n",
    "plt.xlabel('Y predict')\n",
    "plt.ylabel('Y test')\n",
    "plt.show()"
   ]
  },
  {
   "cell_type": "markdown",
   "metadata": {},
   "source": [
    "Berdasarkan Random Forest Confusion Matrix, diperoleh hasil sebagai berikut:\n",
    "1. “True Positive” - Frekuensi prediksi bahwa pasien hidup (0) dan sesuai dengan data aktual bahwa pasien hidup (0) sebanyak 36.\n",
    "2. “False Positive” - Frekuensi prediksi bahwa pasien hidup (0), namun pada data aktual menunjukkan bahwa pasien meninggal (1) sebanyak 1.\n",
    "3. “False Negative” - Frekuensi prediksi bahwa pasien meninggal (1), namun pada data aktual menunjukkan bahwa pasien hidup (0) sebanyak 8.\n",
    "4. \"True Positive\" - Frekuensi prediksi bahwa pasien meninggal (1) dan sesuai dengan data aktual bahwa pasien meninggal (1) sebanyak 15."
   ]
  },
  {
   "cell_type": "markdown",
   "metadata": {},
   "source": [
    "### Naive Bayes"
   ]
  },
  {
   "cell_type": "code",
   "execution_count": 116,
   "metadata": {},
   "outputs": [],
   "source": [
    "# Naive Bayes\n",
    "nb = GaussianNB()\n",
    "nb.fit(X_train,y_train)\n",
    "# prediction\n",
    "y_pred_nb = nb.predict(X_test)\n",
    "nb_acc_score = metrics.accuracy_score(y_test, y_pred_nb)\n",
    "nb_f1_score=metrics.f1_score(y_test, y_pred_nb)"
   ]
  },
  {
   "cell_type": "code",
   "execution_count": 117,
   "metadata": {},
   "outputs": [
    {
     "name": "stdout",
     "output_type": "stream",
     "text": [
      "Test Accuracy score:  0.6833333333333333\n",
      "Test F1 score:  0.42424242424242425\n",
      "\n",
      "\n",
      "              precision    recall  f1-score   support\n",
      "\n",
      "           0       0.68      0.92      0.78        37\n",
      "           1       0.70      0.30      0.42        23\n",
      "\n",
      "    accuracy                           0.68        60\n",
      "   macro avg       0.69      0.61      0.60        60\n",
      "weighted avg       0.69      0.68      0.64        60\n",
      "\n"
     ]
    }
   ],
   "source": [
    "# checking accuracy\n",
    "print('Test Accuracy score: ',nb_acc_score)\n",
    "print('Test F1 score: ', nb_f1_score)\n",
    "print(\"\\n\")\n",
    "print(classification_report(y_test,y_pred_nb))"
   ]
  },
  {
   "cell_type": "code",
   "execution_count": 118,
   "metadata": {},
   "outputs": [
    {
     "data": {
      "image/png": "[encoded data removed]",
      "text/plain": [
       "<Figure size 360x360 with 2 Axes>"
      ]
     },
     "metadata": {
      "needs_background": "light"
     },
     "output_type": "display_data"
    }
   ],
   "source": [
    "# confusion matrix\n",
    "rfcla_cm = confusion_matrix(y_test, y_pred_nb)\n",
    "f, ax = plt.subplots(figsize=(5,5))\n",
    "sns.heatmap(rfcla_cm, annot=True, linewidth=0.7, linecolor='cyan', fmt='g', ax=ax, cmap=\"YlGnBu\")\n",
    "plt.title('Naive Bayes Classification Confusion Matrix')\n",
    "plt.xlabel('Y predict')\n",
    "plt.ylabel('Y test')\n",
    "plt.show()"
   ]
  },
  {
   "cell_type": "markdown",
   "metadata": {},
   "source": [
    "Berdasarkan Logistic Regression Confusion Matrix, diperoleh hasil sebagai berikut:\n",
    "1. “True Positive” - Frekuensi prediksi bahwa pasien hidup (0) dan sesuai dengan data aktual bahwa pasien hidup (0) sebanyak 34.\n",
    "2. “False Positive” - Frekuensi prediksi bahwa pasien hidup (0), namun pada data aktual menunjukkan bahwa pasien meninggal (1) sebanyak 3.\n",
    "3. “False Negative” - Frekuensi prediksi bahwa pasien meninggal (1), namun pada data aktual menunjukkan bahwa pasien hidup (0) sebanyak 16.\n",
    "4. \"True Positive\" - Frekuensi prediksi bahwa pasien meninggal (1) dan sesuai dengan data aktual bahwa pasien meninggal (1) sebanyak 7."
   ]
  },
  {
   "cell_type": "markdown",
   "metadata": {},
   "source": [
    "### XGBClassifier"
   ]
  },
  {
   "cell_type": "code",
   "execution_count": 119,
   "metadata": {},
   "outputs": [
    {
     "name": "stdout",
     "output_type": "stream",
     "text": [
      "[09:56:02] WARNING: C:/Users/Administrator/workspace/xgboost-win64_release_1.5.1/src/learner.cc:1115: Starting in XGBoost 1.3.0, the default evaluation metric used with the objective 'binary:logistic' was changed from 'error' to 'logloss'. Explicitly set eval_metric if you'd like to restore the old behavior.\n"
     ]
    },
    {
     "name": "stderr",
     "output_type": "stream",
     "text": [
      "C:\\Users\\Farah\\anaconda3\\lib\\site-packages\\xgboost\\sklearn.py:1224: UserWarning: The use of label encoder in XGBClassifier is deprecated and will be removed in a future release. To remove this warning, do the following: 1) Pass option use_label_encoder=False when constructing XGBClassifier object; and 2) Encode your labels (y) as integers starting with 0, i.e. 0, 1, 2, ..., [num_class - 1].\n",
      "  warnings.warn(label_encoder_deprecation_msg, UserWarning)\n"
     ]
    }
   ],
   "source": [
    "# XGBClassifier: xg_cl\n",
    "xg_cl = xgb.XGBClassifier(learning_rate=0.01, n_estimators=10, seed=25)\n",
    "xg_cl.fit(X_train,y_train)\n",
    "# prediction\n",
    "y_pred_xgb = xg_cl.predict(X_test)\n",
    "xgb_acc_score=metrics.accuracy_score(y_test, y_pred_xgb)\n",
    "xgb_f1_score = metrics.f1_score(y_test, y_pred_xgb)"
   ]
  },
  {
   "cell_type": "code",
   "execution_count": 120,
   "metadata": {},
   "outputs": [
    {
     "name": "stdout",
     "output_type": "stream",
     "text": [
      "Test Accuracy score:  0.8\n",
      "Test F1 score:  0.7142857142857143\n",
      "\n",
      "\n",
      "              precision    recall  f1-score   support\n",
      "\n",
      "           0       0.80      0.89      0.85        37\n",
      "           1       0.79      0.65      0.71        23\n",
      "\n",
      "    accuracy                           0.80        60\n",
      "   macro avg       0.80      0.77      0.78        60\n",
      "weighted avg       0.80      0.80      0.80        60\n",
      "\n"
     ]
    }
   ],
   "source": [
    "# checking accuracy\n",
    "print('Test Accuracy score: ',xgb_acc_score)\n",
    "print('Test F1 score: ', xgb_f1_score)\n",
    "print(\"\\n\")\n",
    "print(classification_report(y_test,y_pred_xgb))"
   ]
  },
  {
   "cell_type": "code",
   "execution_count": 121,
   "metadata": {},
   "outputs": [
    {
     "data": {
      "image/png": "[encoded data removed]",
      "text/plain": [
       "<Figure size 360x360 with 2 Axes>"
      ]
     },
     "metadata": {
      "needs_background": "light"
     },
     "output_type": "display_data"
    }
   ],
   "source": [
    "# confusion matrix\n",
    "rfcla_cm = confusion_matrix(y_test,y_pred_xgb)\n",
    "f, ax = plt.subplots(figsize=(5,5))\n",
    "sns.heatmap(rfcla_cm, annot=True, linewidth=0.7, linecolor='cyan', fmt='g', ax=ax, cmap=\"YlGnBu\")\n",
    "plt.title('XGB Classification Confusion Matrix')\n",
    "plt.xlabel('Y predict')\n",
    "plt.ylabel('Y test')\n",
    "plt.show()"
   ]
  },
  {
   "cell_type": "markdown",
   "metadata": {},
   "source": [
    "Berdasarkan XGB Confusion Matrix, diperoleh hasil sebagai berikut:\n",
    "1. “True Positive” - Frekuensi prediksi bahwa pasien hidup (0) dan sesuai dengan data aktual bahwa pasien hidup (0) sebanyak 33.\n",
    "2. “False Positive” - Frekuensi prediksi bahwa pasien hidup (0), namun pada data aktual menunjukkan bahwa pasien meninggal (1) sebanyak 4.\n",
    "3. “False Negative” - Frekuensi prediksi bahwa pasien meninggal (1), namun pada data aktual menunjukkan bahwa pasien hidup (0) sebanyak 8.\n",
    "4. \"True Positive\" - Frekuensi prediksi bahwa pasien meninggal (1) dan sesuai dengan data aktual bahwa pasien meninggal (1) sebanyak 15."
   ]
  },
  {
   "cell_type": "markdown",
   "metadata": {},
   "source": [
    "## Evaluasi Model"
   ]
  },
  {
   "cell_type": "code",
   "execution_count": 122,
   "metadata": {},
   "outputs": [
    {
     "data": {
      "text/html": [
       "<div>\n",
       "<style scoped>\n",
       "    .dataframe tbody tr th:only-of-type {\n",
       "        vertical-align: middle;\n",
       "    }\n",
       "\n",
       "    .dataframe tbody tr th {\n",
       "        vertical-align: top;\n",
       "    }\n",
       "\n",
       "    .dataframe thead th {\n",
       "        text-align: right;\n",
       "    }\n",
       "</style>\n",
       "<table border=\"1\" class=\"dataframe\">\n",
       "  <thead>\n",
       "    <tr style=\"text-align: right;\">\n",
       "      <th></th>\n",
       "      <th>Model</th>\n",
       "      <th>Accuracy</th>\n",
       "    </tr>\n",
       "  </thead>\n",
       "  <tbody>\n",
       "    <tr>\n",
       "      <th>0</th>\n",
       "      <td>Logistic Regression</td>\n",
       "      <td>0.783333</td>\n",
       "    </tr>\n",
       "    <tr>\n",
       "      <th>1</th>\n",
       "      <td>Random Forest</td>\n",
       "      <td>0.816667</td>\n",
       "    </tr>\n",
       "    <tr>\n",
       "      <th>2</th>\n",
       "      <td>Extreme Gradient Boost</td>\n",
       "      <td>0.800000</td>\n",
       "    </tr>\n",
       "    <tr>\n",
       "      <th>3</th>\n",
       "      <td>K-Nearest Neighbour</td>\n",
       "      <td>0.716667</td>\n",
       "    </tr>\n",
       "    <tr>\n",
       "      <th>4</th>\n",
       "      <td>Decision Tree</td>\n",
       "      <td>0.750000</td>\n",
       "    </tr>\n",
       "    <tr>\n",
       "      <th>5</th>\n",
       "      <td>Naive Bayes</td>\n",
       "      <td>0.683333</td>\n",
       "    </tr>\n",
       "    <tr>\n",
       "      <th>6</th>\n",
       "      <td>Support Vector Classifier</td>\n",
       "      <td>0.800000</td>\n",
       "    </tr>\n",
       "  </tbody>\n",
       "</table>\n",
       "</div>"
      ],
      "text/plain": [
       "                       Model  Accuracy\n",
       "0        Logistic Regression  0.783333\n",
       "1              Random Forest  0.816667\n",
       "2     Extreme Gradient Boost  0.800000\n",
       "3        K-Nearest Neighbour  0.716667\n",
       "4              Decision Tree  0.750000\n",
       "5                Naive Bayes  0.683333\n",
       "6  Support Vector Classifier  0.800000"
      ]
     },
     "execution_count": 122,
     "metadata": {},
     "output_type": "execute_result"
    }
   ],
   "source": [
    "# membandingkan model\n",
    "model_ev = pd.DataFrame({'Model': ['Logistic Regression','Random Forest','Extreme Gradient Boost',\n",
    "                    'K-Nearest Neighbour','Decision Tree','Naive Bayes', 'Support Vector Classifier'], 'Accuracy': [lr_acc_score,\n",
    "                    rfc_acc_score,xgb_acc_score,knn_acc_score,tree_acc_score,nb_acc_score, svc_acc_score]})\n",
    "model_ev"
   ]
  },
  {
   "cell_type": "markdown",
   "metadata": {},
   "source": [
    "Berdasarkan perbandingan nilai akurasi dari 6 algoritma model machine learning, model dengan nilai akurasi tertinggi adalah model Random Forest dengan nilai akurasi sebesar 0.8. Sehingga algoritma yang paling sesuai untuk digunakan adalah Random Forest."
   ]
  },
  {
   "cell_type": "markdown",
   "metadata": {},
   "source": [
    "### Ensemble Machine Learning (Stacking)"
   ]
  },
  {
   "cell_type": "markdown",
   "metadata": {},
   "source": [
    "Stacking adalah ensemble machine learning algorithm yang mempelajari cara terbaik untuk menggabungkan prediksi dari beberapa model machine learning yang memiliki tingkat akurasi tinggi.<br>\n",
    "Berdasarkan perbandingan nilai akurasi dari 6 algoritma model machine learning, 3 model dengan nilai akurasi tertinggi adalah model Random Forest, Extreme Gradient Boost, dan Support Vector Classifier. Sehingga dilakukan ensemble machine learning algorithm dari 3 model terbaik tersebut."
   ]
  },
  {
   "cell_type": "code",
   "execution_count": 123,
   "metadata": {},
   "outputs": [
    {
     "name": "stderr",
     "output_type": "stream",
     "text": [
      "C:\\Users\\Farah\\anaconda3\\lib\\site-packages\\xgboost\\sklearn.py:1224: UserWarning: The use of label encoder in XGBClassifier is deprecated and will be removed in a future release. To remove this warning, do the following: 1) Pass option use_label_encoder=False when constructing XGBClassifier object; and 2) Encode your labels (y) as integers starting with 0, i.e. 0, 1, 2, ..., [num_class - 1].\n",
      "  warnings.warn(label_encoder_deprecation_msg, UserWarning)\n"
     ]
    },
    {
     "name": "stdout",
     "output_type": "stream",
     "text": [
      "[09:56:03] WARNING: C:/Users/Administrator/workspace/xgboost-win64_release_1.5.1/src/learner.cc:1115: Starting in XGBoost 1.3.0, the default evaluation metric used with the objective 'binary:logistic' was changed from 'error' to 'logloss'. Explicitly set eval_metric if you'd like to restore the old behavior.\n",
      "[09:56:03] WARNING: C:/Users/Administrator/workspace/xgboost-win64_release_1.5.1/src/learner.cc:1115: Starting in XGBoost 1.3.0, the default evaluation metric used with the objective 'binary:logistic' was changed from 'error' to 'logloss'. Explicitly set eval_metric if you'd like to restore the old behavior.\n",
      "[09:56:03] WARNING: C:/Users/Administrator/workspace/xgboost-win64_release_1.5.1/src/learner.cc:1115: Starting in XGBoost 1.3.0, the default evaluation metric used with the objective 'binary:logistic' was changed from 'error' to 'logloss'. Explicitly set eval_metric if you'd like to restore the old behavior.\n",
      "\n",
      "\n",
      "Accuracy of StackingCVClassifier: 85.0 \n",
      "\n",
      "              precision    recall  f1-score   support\n",
      "\n",
      "           0       0.85      0.92      0.88        37\n",
      "           1       0.85      0.74      0.79        23\n",
      "\n",
      "    accuracy                           0.85        60\n",
      "   macro avg       0.85      0.83      0.84        60\n",
      "weighted avg       0.85      0.85      0.85        60\n",
      "\n"
     ]
    },
    {
     "name": "stderr",
     "output_type": "stream",
     "text": [
      "C:\\Users\\Farah\\anaconda3\\lib\\site-packages\\xgboost\\sklearn.py:1224: UserWarning: The use of label encoder in XGBClassifier is deprecated and will be removed in a future release. To remove this warning, do the following: 1) Pass option use_label_encoder=False when constructing XGBClassifier object; and 2) Encode your labels (y) as integers starting with 0, i.e. 0, 1, 2, ..., [num_class - 1].\n",
      "  warnings.warn(label_encoder_deprecation_msg, UserWarning)\n"
     ]
    }
   ],
   "source": [
    "# top 3 model: Random Forest, Extreme Gradient Boost, Support Vector Classifier\n",
    "scv=StackingCVClassifier(classifiers=[rfc,xg_cl,svc],meta_classifier=nb,random_state=22)\n",
    "scv.fit(X_train,y_train)\n",
    "scv_predicted = scv.predict(X_test)\n",
    "scv_acc_score = accuracy_score(y_test, scv_predicted)\n",
    "scv_f1_score = f1_score(y_test, scv_predicted)\n",
    "print(\"\\n\")\n",
    "print(\"Accuracy of StackingCVClassifier:\",scv_acc_score*100,'\\n')\n",
    "print(classification_report(y_test,scv_predicted))"
   ]
  },
  {
   "cell_type": "markdown",
   "metadata": {},
   "source": [
    "Hasil Stacking 3 model terbaik menunjukkan nilai akurasi sebesar 83.34%"
   ]
  },
  {
   "cell_type": "code",
   "execution_count": 124,
   "metadata": {},
   "outputs": [
    {
     "data": {
      "image/png": "[encoded data removed]",
      "text/plain": [
       "<Figure size 360x360 with 2 Axes>"
      ]
     },
     "metadata": {
      "needs_background": "light"
     },
     "output_type": "display_data"
    }
   ],
   "source": [
    "scv_conf_matrix = confusion_matrix(y_test, scv_predicted)\n",
    "f, ax = plt.subplots(figsize=(5,5))\n",
    "sns.heatmap(scv_conf_matrix, annot=True, linewidth=0.7, linecolor='cyan', fmt='g', ax=ax, cmap=\"YlGnBu\")\n",
    "plt.title('StackingCVClassifier Confusion Matrix')\n",
    "plt.xlabel('Y predict')\n",
    "plt.ylabel('Y test')\n",
    "plt.show()"
   ]
  },
  {
   "cell_type": "markdown",
   "metadata": {},
   "source": [
    "Berdasarkan Stacking Confusion Matrix, diperoleh hasil sebagai berikut:\n",
    "1. “True Positive” - Frekuensi prediksi bahwa pasien hidup (0) dan sesuai dengan data aktual bahwa pasien hidup (0) sebanyak 35.\n",
    "2. “False Positive” - Frekuensi prediksi bahwa pasien hidup (0), namun pada data aktual menunjukkan bahwa pasien meninggal (1) sebanyak 2.\n",
    "3. “False Negative” - Frekuensi prediksi bahwa pasien meninggal (1), namun pada data aktual menunjukkan bahwa pasien hidup (0) sebanyak 7.\n",
    "4. \"True Positive\" - Frekuensi prediksi bahwa pasien meninggal (1) dan sesuai dengan data aktual bahwa pasien meninggal (1) sebanyak 16."
   ]
  },
  {
   "cell_type": "markdown",
   "metadata": {},
   "source": [
    "## Kesimpulan"
   ]
  },
  {
   "cell_type": "markdown",
   "metadata": {},
   "source": [
    "1. Berdasarkan grafik, jumlah pasien yang masih hidup pada waktu follow-up lebih banyak jika dibandingkan dengan pasien yang meninggal. Sebanyak 203 pasien atau 68% pasien hidup, sedangkan 32% sisanya dinyatakan meninggal pada waktu follow-up.\n",
    "2. Berdasarkan heatmap, terjadi korelasi positif antara variabel smoking dan sex. Sedangkan korelasi negatif terjadi antara variabel death event dan time.\n",
    "3. Pada project ini digunakan 7 algoritma model machine learning yang terdiri dari Logistic Regression, Support Vector Machine, Naive Bayes, Decision Tree Score, Random Forest, K-Nearest Neighbour, dan XGBClassifier.\n",
    "4. Berdasarkan perbandingan nilai akurasi dari 6 algoritma model machine learning, 3 model dengan nilai akurasi tertinggi adalah model Random Forest, Extreme Gradient Boost, dan Support Vector Classifier. Sehingga dilakukan ensemble machine learning algorithm dari 3 model terbaik tersebut. Hasil Stacking 3 model terbaik menunjukkan nilai akurasi sebesar 83.34%.\n",
    "5. Berdasarkan Stacking Confusion Matrix, diperoleh nilai “True Positive” sebanyak 35, “False Positive” sebanyak 2, “False Negative” sebanyak 7, dan \"True Positive\" sebanyak 16."
   ]
  },
  {
   "cell_type": "code",
   "execution_count": null,
   "metadata": {},
   "outputs": [],
   "source": []
  },
  {
   "cell_type": "code",
   "execution_count": null,
   "metadata": {},
   "outputs": [],
   "source": []
  },
  {
   "cell_type": "code",
   "execution_count": null,
   "metadata": {},
   "outputs": [],
   "source": []
  },
  {
   "cell_type": "code",
   "execution_count": null,
   "metadata": {},
   "outputs": [],
   "source": []
  },
  {
   "cell_type": "code",
   "execution_count": null,
   "metadata": {},
   "outputs": [],
   "source": []
  }
 ],
 "metadata": {
  "interpreter": {
   "hash": "e9a8cbe108339b3e607c1d1284bcb36d094c42c8cafb0877055799471693e25e"
  },
  "kernelspec": {
   "display_name": "Python 3.8.5 64-bit ('base': conda)",
   "language": "python",
   "name": "python3"
  },
  "language_info": {
   "codemirror_mode": {
    "name": "ipython",
    "version": 3
   },
   "file_extension": ".py",
   "mimetype": "text/x-python",
   "name": "python",
   "nbconvert_exporter": "python",
   "pygments_lexer": "ipython3",
   "version": "3.8.5"
  },
  "orig_nbformat": 4
 },
 "nbformat": 4,
 "nbformat_minor": 2
}
